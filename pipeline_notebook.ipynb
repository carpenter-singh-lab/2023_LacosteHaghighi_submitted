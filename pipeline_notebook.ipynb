{
 "cells": [
  {
   "cell_type": "code",
   "execution_count": null,
   "metadata": {},
   "outputs": [],
   "source": [
    "%load_ext autoreload\n",
    "%autoreload 2\n",
    "%matplotlib notebook\n",
    "import pandas as pd\n",
    "import numpy as np\n",
    "import seaborn as sns\n",
    "import sklearn.preprocessing as sp\n",
    "import pickle\n",
    "import matplotlib.pyplot as plt\n",
    "import os\n",
    "from datetime import date\n",
    "today = date.today()\n",
    "from utils import preprocessing,meanProfileAnalysis\n",
    "from utils.impactscore import impact_score_wt_mt, impact_score_wt_mt_perplate\n",
    "from utils.feature_importance import generate_feature_importance_figures\n",
    "from utils.subpopulation_analysis import generate_subpopulation_analysis_figures\n"
   ]
  },
  {
   "cell_type": "markdown",
   "metadata": {},
   "source": [
    "# Steps:\n",
    "\n",
    "### 1- Clean metadata and make a columns names uniform to input to the pipeline\n",
    "   - Done in standardize_platemaps notebook\n",
    "\n",
    "### 2. Save a subset of intensity features \n",
    "   - for transfection efficiency exploration and parameter selection of transfection detection\n",
    "\n",
    "### 3. Read Intensity features and save their distribution for transfected versus untransfected wells \n",
    "   - for transfection efficiency exploration and parameter selection of transfection detection\n",
    "   \n",
    "### 4. Fix transfection detection parameters and generate and save population level profiles\n",
    "   - Based on the fixed parameters for transfection detection, generate and save population level profiles and also save transfected single cells for visualization and subpopulation analysis\n",
    "   \n",
    "### 5. Load and preprocess replicate level profiles \n",
    "   - read the saved per-well population profiles\n",
    "     - cpg0026-lacoste_haghighi-rare-diseases/broad/workspace/population_profiles\n",
    "   \n",
    "### 6. Calculate replicate correlation of profiles\n",
    "   - Calculate technical replicate reproducibility using correlation coefficient metric and compare with\n",
    "     random-pair replicability (null distribution)\n",
    "\n",
    "   \n",
    "### 7. Calculate WT-MT impact scores and save the to results\n",
    "\n",
    "   \n",
    "\n",
    "### 8. (optional) generate plots for WT-MT impact subpopulation analysis\n"
   ]
  },
  {
   "cell_type": "code",
   "execution_count": null,
   "metadata": {},
   "outputs": [],
   "source": []
  },
  {
   "cell_type": "markdown",
   "metadata": {},
   "source": [
    "## Read cleaned metadata from \"metadata/reprocessed\" folder"
   ]
  },
  {
   "cell_type": "code",
   "execution_count": null,
   "metadata": {},
   "outputs": [],
   "source": [
    "rootDir='/home/ubuntu/gallery/cpg0026-lacoste_haghighi-rare-diseases/broad/workspace'\n",
    "rootSaveDir='./results/'\n",
    "\n",
    "batch_12='set1_set2'\n",
    "annot_df=pd.read_csv(rootDir+'/metadata/reprocessed/'+batch_12+'.csv')\n",
    "annot_df.head()"
   ]
  },
  {
   "cell_type": "markdown",
   "metadata": {},
   "source": [
    "## 2. Save a subset of intensity features "
   ]
  },
  {
   "cell_type": "code",
   "execution_count": null,
   "metadata": {},
   "outputs": [],
   "source": [
    "\n",
    "########################## \n",
    "channels_used=['Protein']\n",
    "\n",
    "listOfBatchPlates=annot_df.Metadata_batch_Plate.unique().tolist();\n",
    "for bp in listOfBatchPlates:\n",
    "    _=preprocessing.saveRawIntensityFeatures(bp,annot_df,rootDir,channels_used);"
   ]
  },
  {
   "cell_type": "code",
   "execution_count": null,
   "metadata": {},
   "outputs": [],
   "source": []
  },
  {
   "cell_type": "markdown",
   "metadata": {},
   "source": [
    "## 3. Read Intensity features and save their distribution \n",
    "    - for transfected versus untransfected wells "
   ]
  },
  {
   "cell_type": "code",
   "execution_count": null,
   "metadata": {},
   "outputs": [],
   "source": [
    "######## READ\n",
    "channels_used=['Protein']\n",
    "\n",
    "df_inten,df_inten_scaled_perPlate=\\\n",
    "        utils.preprocessing.readNormalizeIntensityFeatures(annot_df,rootDir,channels_used);"
   ]
  },
  {
   "cell_type": "code",
   "execution_count": null,
   "metadata": {},
   "outputs": [],
   "source": []
  },
  {
   "cell_type": "code",
   "execution_count": null,
   "metadata": {
    "scrolled": false
   },
   "outputs": [],
   "source": [
    "######## PLOT and SAVE\n",
    "intFeatures=['Cells_Intensity_UpperQuartileIntensity_Protein',\\\n",
    "             'Cells_Intensity_MeanIntensity_Protein',\\\n",
    "             'Cells_Intensity_MaxIntensity_Protein']\n",
    "\n",
    "\n",
    "plot_int_params={'log_scale_enabled':True,\\\n",
    "                 'sharex_enabled':False,\\\n",
    "                 'hist_n_bins':1000,\\\n",
    "                 'zero_offset_4logscale_plot':0.00001,\\\n",
    "                 'intFeature':intFeatures[1],\n",
    "                 'hue_column':'Metadata_transfection'\n",
    "                }\n",
    "\n",
    "listOfBatches=annot_df.batch.unique().tolist();\n",
    "\n",
    "for inti in intFeatures:\n",
    "    plot_int_params['intFeature']=inti\n",
    "    f=utils.preprocessing.plot_intensity_features(listOfBatches,[df_inten,df_inten_scaled_perPlate],plot_int_params)\n",
    "\n",
    "    saveDir=rootSaveDir+'/results/intensity_dists/'+batch_12\n",
    "    os.makedirs(saveDir, exist_ok=True)\n",
    "    f.savefig(saveDir+'/'+inti+'.png')\n"
   ]
  },
  {
   "cell_type": "code",
   "execution_count": null,
   "metadata": {},
   "outputs": [],
   "source": []
  },
  {
   "cell_type": "code",
   "execution_count": null,
   "metadata": {},
   "outputs": [],
   "source": []
  },
  {
   "cell_type": "markdown",
   "metadata": {},
   "source": [
    "## 4. Generate population profiles"
   ]
  },
  {
   "cell_type": "code",
   "execution_count": null,
   "metadata": {},
   "outputs": [],
   "source": [
    "precomputed_params_batches= {'Maxproj_Replicates_Original_Screen':[0.0033,0.023],\\\n",
    "'Maxproj_Kinase_Plates':[0.0018,0.0234],\\\n",
    "'Maxproj_Common_Variants':[0.0097,0.0225],\\\n",
    "'Maxproj_Cancer_Mutations_Screen':[0.0065,0.0228],\\\n",
    "'PILOT_1_maxproj':[0.005,0.0165]}\n",
    "\n",
    "\n",
    "\n",
    "transfection_params_dict={'Method':'single_intensity_feature_thrsh',\\\n",
    "                              'intensity_feature_to_use':'Cells_Intensity_MeanIntensity_Protein',\\\n",
    "                              'thresholding_method': 'precomputed_batch_specific_thrsh',\\\n",
    "                              'pre_detection_scaler':'MinMax',\\\n",
    "                              'precomputed_params': []} \n",
    "\n",
    "feature_scaling_params_dict={'feature_scaler': 'Robust'}\n",
    "all_params={}\n",
    "all_params['enrichement_profiles_params']={}\n",
    "all_params['transfection_params_dict']=transfection_params_dict\n",
    "all_params['feature_scaling_params_dict']=feature_scaling_params_dict\n",
    "all_params['save_single_cells']=True\n",
    "\n",
    "\n",
    "listOfBatchPlates=annot_df.Metadata_batch_Plate.unique().tolist();\n",
    "\n",
    "for bp in listOfBatchPlates:\n",
    "    b=bp.split('-')[0]\n",
    "    all_params['transfection_params_dict']['precomputed_params']=precomputed_params_batches[b]\n",
    "    preprocessing.generate_population_profiles(bp,annot_df,rootDir,all_params);"
   ]
  },
  {
   "cell_type": "markdown",
   "metadata": {},
   "source": [
    "## 5. Load and preprocess replicate level profiles \n"
   ]
  },
  {
   "cell_type": "code",
   "execution_count": null,
   "metadata": {},
   "outputs": [],
   "source": [
    "# sc_per_plate_scaling # 'sc_scaled_per_plate','raw'\n",
    "# zscored_profiles # 'untransfected','untransfected_stringent'\n",
    "feature_scaling_params_dict={'sc_per_plate_scaling':'sc_scaled_per_plate',\\\n",
    "                             'zscored_profiles':[False,'untransfected'],\\\n",
    "                             'post_scale_all_profiles':[True,'Standard']} \n",
    "\n",
    "dirs_params_dict={'rootDir':rootDir,\\\n",
    "                  'profiles_folder_in_workspace': 'population_profiles'}\n",
    "read_pop_params={}\n",
    "read_pop_params['dirs_params_dict']=dirs_params_dict\n",
    "read_pop_params['feature_scaling_params_dict']=feature_scaling_params_dict\n",
    "read_pop_params['protein_channel_suffix']='Protein'\n",
    "\n",
    "df_scaled_annot,cpFeats_A,cpFeats_P,cpFeats_NP=\\\n",
    "meanProfileAnalysis.read_merge_preprocess_meanProfiles(annot_df,read_pop_params);\n",
    "\n",
    "# dfTransSummary = df_scaled_annot[['Metadata_batch_Plate','Metadata_Sample_Unique','n_transf','n_untransf','transf_Ratio']]\n",
    "dfTransSummary=df_scaled_annot[annot_df.columns.tolist()+['n_transf','n_untransf','transf_Ratio']];"
   ]
  },
  {
   "cell_type": "code",
   "execution_count": null,
   "metadata": {},
   "outputs": [],
   "source": [
    "len(cpFeats_A),len(cpFeats_P),len(cpFeats_NP)"
   ]
  },
  {
   "cell_type": "markdown",
   "metadata": {},
   "source": [
    "#### Filterpot wells that:\n",
    "- Manual annotation of \"not transfected\"\n",
    "- Detected number of transfected cells (\"n_transf\" column) less than x"
   ]
  },
  {
   "cell_type": "code",
   "execution_count": null,
   "metadata": {},
   "outputs": [],
   "source": [
    "df_scaled_annot=df_scaled_annot[df_scaled_annot['Metadata_transfection']==False]\n",
    "df_scaled_annot=df_scaled_annot[df_scaled_annot['n_transf']>5].reset_index(drop=True)\n"
   ]
  },
  {
   "cell_type": "code",
   "execution_count": null,
   "metadata": {},
   "outputs": [],
   "source": [
    "\n",
    "df_rep_level_scaled.groupby(['Metadata_Sample_Unique']).size().reset_index()"
   ]
  },
  {
   "cell_type": "markdown",
   "metadata": {},
   "source": [
    "## 6. Calculate replicate correlation of profiles\n",
    "   - Save curve plots and values to results/replicate_corr_curves"
   ]
  },
  {
   "cell_type": "code",
   "execution_count": null,
   "metadata": {},
   "outputs": [],
   "source": [
    "from singlecell.process.replicate_correlation import replicate_null_corr_coefs\n",
    "from singlecell.process import normalize_funcs\n",
    "\n",
    "df_rep_level=df_scaled_annot[df_scaled_annot['transfection_status']==1].reset_index(drop=True)\n",
    "\n",
    "df_rep_level_scaled=normalize_funcs.standardize_per_catX(df_rep_level,'Metadata_batch_Plate',cpFeats_P+cpFeats_NP).copy();\n",
    "# df_rep_level_scaled = normalize_funcs.standardize_df_columns(df_rep_level,cpFeats_P+cpFeats_NP,'Standard')\n",
    "\n",
    "nOfReps=df_rep_level_scaled.groupby(['Metadata_Sample_Unique']).size().reset_index()\n",
    "pairWithReplicates=nOfReps.loc[nOfReps[0]!=1,:].reset_index()['Metadata_Sample_Unique']#.groupby([0]).size()\n",
    "\n",
    "scal_status=df_rep_level_scaled['normalization'].unique()[0]\n",
    "zscor_status=df_rep_level_scaled['zscored'].unique().astype(str)[0]\n",
    "# if not np.isnan(df_rep_level_scaled['zscored'].unique()[0])\n",
    "\n",
    "saveDir=rootSaveDir+'/results/replicate_corr_curves/'+batch_12\n",
    "# \n",
    "os.makedirs(saveDir, exist_ok=True)\n",
    "\n",
    "pertColName='Metadata_Sample_Unique'\n",
    "repCor4impactList=[]\n",
    "rep_corr_ls=[];null_corr_ls=[]\n",
    "for f,ch,t in zip([cpFeats_P,cpFeats_NP],['p','np'],['Protein_Channel','NonProtein_Channels']):\n",
    "    print(ch,t)\n",
    "    t2=t+', '+scal_status+', zscored: '+zscor_status\n",
    "    fh_2save,repCorrDf,a,b=replicate_null_corr_coefs(df_rep_level_scaled,pertColName,f,1,title=t2,hist_bins=100)\n",
    "    fh_2save.savefig(saveDir+'/'+ch+'_'+scal_status+'_'+zscor_status+'_'+today.strftime(\"%Y%m%d\")+'.png')\n",
    "    repCorrDf=repCorrDf.add_suffix('_'+ch)\n",
    "    rep_corr_ls.append(a);\n",
    "    null_corr_ls.append(b);\n",
    "    repCor4impactList.append(repCorrDf);\n",
    "    \n",
    "repCorr_df_avg=pd.concat(repCor4impactList,axis=1).reset_index().rename(columns={'index':pertColName})\n",
    "if 0:\n",
    "    repCorr_df_avg.to_csv(saveDir+'/'+scal_status+'_'+zscor_status+'_'+today.strftime(\"%Y%m%d\")+'.csv',index=False)\n",
    "df_rep_level_scaled=pd.merge(df_rep_level_scaled,repCorr_df_avg,how='left',on=pertColName)"
   ]
  },
  {
   "cell_type": "code",
   "execution_count": null,
   "metadata": {},
   "outputs": [],
   "source": [
    "rep_reprod_cc_curves_source_numbers=pd.DataFrame()\n",
    "rep_reprod_cc_curves_source_numbers['rep_corr_p']=rep_corr_ls[0]\n",
    "rep_reprod_cc_curves_source_numbers['null_corr_p']=null_corr_ls[0]\n",
    "\n",
    "rep_reprod_cc_curves_source_numbers['rep_corr_np']=rep_corr_ls[1]\n",
    "rep_reprod_cc_curves_source_numbers['null_corr_np']=null_corr_ls[1]"
   ]
  },
  {
   "cell_type": "code",
   "execution_count": null,
   "metadata": {},
   "outputs": [],
   "source": [
    "rep_reprod_cc_curves_source_numbers.to_csv('rep_curves_source_data.csv')"
   ]
  },
  {
   "cell_type": "markdown",
   "metadata": {},
   "source": [
    "### 7. Calculate WT-MT impact scores and save\n",
    "- Approach 1: average replicate level profiles and score treatment level profiles\n",
    "- Approach 2: calculate impact scores per plate"
   ]
  },
  {
   "cell_type": "code",
   "execution_count": null,
   "metadata": {},
   "outputs": [],
   "source": [
    "# Approach 1\n",
    "wt_mt_cols=['Gene','Metadata_Sample_Unique']\n",
    "impact_scores_trt_profs = impact_score_wt_mt(df_rep_level_scaled,repCorr_df_avg,[cpFeats_P,cpFeats_NP],wt_mt_cols);\n",
    "\n",
    "saveDir=rootSaveDir+'/results/Impact-Scores/Method-MeanProfiles/'+batch_12\n",
    "os.makedirs(saveDir, exist_ok=True)\n",
    "impact_scores_trt_profs.to_csv(saveDir+'/impact_scores_trt_'+today.strftime(\"%Y%m%d\")+'.csv',index=False)"
   ]
  },
  {
   "cell_type": "code",
   "execution_count": null,
   "metadata": {},
   "outputs": [],
   "source": [
    "# Approach 2\n",
    "wt_mt_cols=['Gene','Metadata_Sample_Unique']\n",
    "impact_scores_perplate = impact_score_wt_mt_perplate(df_rep_level_scaled,repCorr_df_avg,\\\n",
    "                                                     [cpFeats_P,cpFeats_NP],wt_mt_cols)\n",
    "\n",
    "saveDir=rootSaveDir+'/results/Impact-Scores/Method-MeanProfiles/'+batch_12\n",
    "os.makedirs(saveDir, exist_ok=True)\n",
    "impact_scores_perplate.to_csv(saveDir+'/impact_scores_perplate_'+today.strftime(\"%Y%m%d\")+'.csv',index=False)"
   ]
  },
  {
   "cell_type": "code",
   "execution_count": null,
   "metadata": {},
   "outputs": [],
   "source": []
  },
  {
   "cell_type": "markdown",
   "metadata": {},
   "source": [
    "### 8. (optional) generate plots for WT-MT impact subpopulation analysis"
   ]
  },
  {
   "cell_type": "code",
   "execution_count": null,
   "metadata": {
    "scrolled": true
   },
   "outputs": [],
   "source": [
    "###### Feature importance\n",
    "save_dir = rootSaveDir + '/results/WT-MT-same-plates-p'\n",
    "# Channelss=['Protein','Mito','ER','DNA']\n",
    "channels=['Protein']\n",
    "incompPairs=generate_feature_importance_figures(df_rep_level_scaled, cpFeats_P, save_dir, channels);"
   ]
  },
  {
   "cell_type": "code",
   "execution_count": null,
   "metadata": {
    "scrolled": true
   },
   "outputs": [],
   "source": [
    "###### generate subpopulation analysis\n",
    "save_dir = rootSaveDir + '/results/WT-MT-same-plates-p'\n",
    "\n",
    "nSampleSCs=6;\n",
    "boxSize=200;\n",
    "n_clusters=10\n",
    "\n",
    "params={'results_dir':'',\\\n",
    "        'control_label':'Wild-type',\\\n",
    "        'pert_label': 'Mutant',\\\n",
    "        'n_clusters':n_clusters,\\\n",
    "        'n_cells_4single_cell_plots':nSampleSCs,\\\n",
    "        'channels_4single_cell_plots':['Protein','DNA','Mito','ER'],\\\n",
    "        'boxSize_4single_cell_plots': boxSize,\\\n",
    "        'compressed_ims_flag':False,\\\n",
    "        'img_save_format':'.png'}     \n",
    "                \n",
    "plt.ioff()\n",
    "incompPairs=generate_subpopulation_analysis_figures(df_rep_level_scaled, cpFeats_P,rootDir, save_dir, params);\n"
   ]
  },
  {
   "cell_type": "code",
   "execution_count": null,
   "metadata": {},
   "outputs": [],
   "source": []
  }
 ],
 "metadata": {
  "kernelspec": {
   "display_name": "Python 3 (ipykernel)",
   "language": "python",
   "name": "python3"
  },
  "language_info": {
   "codemirror_mode": {
    "name": "ipython",
    "version": 3
   },
   "file_extension": ".py",
   "mimetype": "text/x-python",
   "name": "python",
   "nbconvert_exporter": "python",
   "pygments_lexer": "ipython3",
   "version": "3.9.0"
  },
  "latex_envs": {
   "LaTeX_envs_menu_present": true,
   "autoclose": false,
   "autocomplete": true,
   "bibliofile": "biblio.bib",
   "cite_by": "apalike",
   "current_citInitial": 1,
   "eqLabelWithNumbers": true,
   "eqNumInitial": 1,
   "hotkeys": {
    "equation": "Ctrl-E",
    "itemize": "Ctrl-I"
   },
   "labels_anchors": false,
   "latex_user_defs": false,
   "report_style_numbering": false,
   "user_envs_cfg": false
  },
  "varInspector": {
   "cols": {
    "lenName": 16,
    "lenType": 16,
    "lenVar": 40
   },
   "kernels_config": {
    "python": {
     "delete_cmd_postfix": "",
     "delete_cmd_prefix": "del ",
     "library": "var_list.py",
     "varRefreshCmd": "print(var_dic_list())"
    },
    "r": {
     "delete_cmd_postfix": ") ",
     "delete_cmd_prefix": "rm(",
     "library": "var_list.r",
     "varRefreshCmd": "cat(var_dic_list()) "
    }
   },
   "types_to_exclude": [
    "module",
    "function",
    "builtin_function_or_method",
    "instance",
    "_Feature"
   ],
   "window_display": false
  }
 },
 "nbformat": 4,
 "nbformat_minor": 2
}
